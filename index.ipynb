{
 "cells": [
  {
   "cell_type": "markdown",
   "metadata": {},
   "source": [
    "# Join Statements - Lab\n",
    "\n",
    "## Introduction\n",
    "\n",
    "In this lab, you'll practice your knowledge on Join statements.\n",
    "\n",
    "## Objectives\n",
    "\n",
    "You will be able to:\n",
    "- Write queries that make use of various types of Joins\n",
    "- Join tables using foreign keys"
   ]
  },
  {
   "cell_type": "markdown",
   "metadata": {},
   "source": [
    "## CRM Schema\n",
    "\n",
    "In almost all cases, rather then just working with a single table we will typically need data from multiple tables. \n",
    "Doing this requires the use of **joins ** using shared columns from the two tables. \n",
    "\n",
    "In this lab, we'll use the same Customer Relationship Management (CRM) database we used in our lecture before!\n",
    "<img src='Database-Schema.png' width=550>"
   ]
  },
  {
   "cell_type": "markdown",
   "metadata": {},
   "source": [
    "## Connecting to the Database\n",
    "Import the necessary packages and connect to the database **data.sqlite**."
   ]
  },
  {
   "cell_type": "code",
   "execution_count": 1,
   "metadata": {},
   "outputs": [],
   "source": [
    "import sqlite3\n",
    "import pandas as pd\n",
    "\n",
    "conn = sqlite3.connect('data.sqlite', detect_types=sqlite3.PARSE_COLNAMES)\n",
    "cur = conn.cursor()"
   ]
  },
  {
   "cell_type": "markdown",
   "metadata": {},
   "source": [
    "## Display the names of all the employees in Boston."
   ]
  },
  {
   "cell_type": "code",
   "execution_count": 2,
   "metadata": {},
   "outputs": [],
   "source": [
    "query = \"\"\"\n",
    "SELECT \n",
    "  employees.firstName\n",
    ", employees.lastName\n",
    "FROM \n",
    "  employees JOIN offices\n",
    "  ON employees.officeCODE = offices.officeCode\n",
    "WHERE\n",
    "  city = 'Boston'\n",
    "\"\"\""
   ]
  },
  {
   "cell_type": "code",
   "execution_count": 3,
   "metadata": {},
   "outputs": [
    {
     "data": {
      "text/plain": [
       "[('Julie', 'Firrelli'), ('Steve', 'Patterson')]"
      ]
     },
     "execution_count": 3,
     "metadata": {},
     "output_type": "execute_result"
    }
   ],
   "source": [
    "result = cur.execute(query).fetchall()\n",
    "result"
   ]
  },
  {
   "cell_type": "markdown",
   "metadata": {},
   "source": [
    "## Do any offices have no employees?"
   ]
  },
  {
   "cell_type": "code",
   "execution_count": 4,
   "metadata": {},
   "outputs": [],
   "source": [
    "office_none = \"\"\"\n",
    "SELECT *\n",
    "FROM offices \n",
    "LEFT JOIN employees\n",
    "  ON offices.officeCode = employees.officeCode\n",
    "WHERE employees.officeCode IS NULL;\n",
    "\"\"\""
   ]
  },
  {
   "cell_type": "code",
   "execution_count": 5,
   "metadata": {},
   "outputs": [
    {
     "data": {
      "text/plain": [
       "[]"
      ]
     },
     "execution_count": 5,
     "metadata": {},
     "output_type": "execute_result"
    }
   ],
   "source": [
    "cur.execute(office_none).fetchall()"
   ]
  },
  {
   "cell_type": "markdown",
   "metadata": {},
   "source": [
    "## Write 3 Questions of your own and answer them"
   ]
  },
  {
   "cell_type": "code",
   "execution_count": 8,
   "metadata": {},
   "outputs": [
    {
     "data": {
      "text/plain": [
       "[('Anthony', 'Bow'),\n",
       " ('Jeff', 'Firrelli'),\n",
       " ('Leslie', 'Jennings'),\n",
       " ('Diane', 'Murphy'),\n",
       " ('Mary', 'Patterson'),\n",
       " ('Leslie', 'Thompson'),\n",
       " ('Foon Yue', 'Tseng'),\n",
       " ('George', 'Vanauf'),\n",
       " ('Gerard', 'Bondur'),\n",
       " ('Loui', 'Bondur'),\n",
       " ('Pamela', 'Castillo'),\n",
       " ('Martin', 'Gerard'),\n",
       " ('Gerard', 'Hernandez'),\n",
       " ('Yoshimi', 'Kato'),\n",
       " ('Mami', 'Nishi'),\n",
       " ('Andy', 'Fixter'),\n",
       " ('Tom', 'King'),\n",
       " ('Peter', 'Marsh'),\n",
       " ('William', 'Patterson'),\n",
       " ('Larry', 'Bott'),\n",
       " ('Barry', 'Jones')]"
      ]
     },
     "execution_count": 8,
     "metadata": {},
     "output_type": "execute_result"
    }
   ],
   "source": [
    "# Find all employees not of Boston\n",
    "cur.execute(\"\"\"\n",
    "SELECT \n",
    "  employees.firstName\n",
    ", employees.lastName\n",
    "FROM \n",
    "  employees JOIN offices\n",
    "  ON employees.officeCODE = offices.officeCode\n",
    "WHERE\n",
    "  city != 'Boston'\n",
    "\"\"\").fetchall()"
   ]
  },
  {
   "cell_type": "code",
   "execution_count": 7,
   "metadata": {},
   "outputs": [
    {
     "data": {
      "text/plain": [
       "[('Anthony', 'Bow'),\n",
       " ('Jeff', 'Firrelli'),\n",
       " ('Leslie', 'Jennings'),\n",
       " ('Diane', 'Murphy'),\n",
       " ('Mary', 'Patterson'),\n",
       " ('Leslie', 'Thompson')]"
      ]
     },
     "execution_count": 7,
     "metadata": {},
     "output_type": "execute_result"
    }
   ],
   "source": [
    "# Find all employees of San Francisco\n",
    "cur.execute(\"\"\"\n",
    "SELECT \n",
    "  employees.firstName\n",
    ", employees.lastName\n",
    "FROM \n",
    "  employees JOIN offices\n",
    "  ON employees.officeCODE = offices.officeCode\n",
    "WHERE\n",
    "  city = 'San Francisco'\n",
    "\"\"\").fetchall()"
   ]
  },
  {
   "cell_type": "code",
   "execution_count": 13,
   "metadata": {},
   "outputs": [
    {
     "data": {
      "text/plain": [
       "[('Atelier graphique', '10123'),\n",
       " ('Atelier graphique', '10298'),\n",
       " ('Atelier graphique', '10345'),\n",
       " ('Signal Gift Stores', '10124'),\n",
       " ('Signal Gift Stores', '10278'),\n",
       " ('Signal Gift Stores', '10346'),\n",
       " ('Australian Collectors, Co.', '10120'),\n",
       " ('Australian Collectors, Co.', '10125'),\n",
       " ('Australian Collectors, Co.', '10223'),\n",
       " ('Australian Collectors, Co.', '10342'),\n",
       " ('Australian Collectors, Co.', '10347'),\n",
       " ('La Rochelle Gifts', '10275'),\n",
       " ('La Rochelle Gifts', '10315'),\n",
       " ('La Rochelle Gifts', '10375'),\n",
       " ('La Rochelle Gifts', '10425'),\n",
       " ('Baane Mini Imports', '10103'),\n",
       " ('Baane Mini Imports', '10158'),\n",
       " ('Baane Mini Imports', '10309'),\n",
       " ('Baane Mini Imports', '10325'),\n",
       " ('Mini Gifts Distributors Ltd.', '10113'),\n",
       " ('Mini Gifts Distributors Ltd.', '10135'),\n",
       " ('Mini Gifts Distributors Ltd.', '10142'),\n",
       " ('Mini Gifts Distributors Ltd.', '10182'),\n",
       " ('Mini Gifts Distributors Ltd.', '10229'),\n",
       " ('Mini Gifts Distributors Ltd.', '10271'),\n",
       " ('Mini Gifts Distributors Ltd.', '10282'),\n",
       " ('Mini Gifts Distributors Ltd.', '10312'),\n",
       " ('Mini Gifts Distributors Ltd.', '10335'),\n",
       " ('Mini Gifts Distributors Ltd.', '10357'),\n",
       " ('Mini Gifts Distributors Ltd.', '10368'),\n",
       " ('Mini Gifts Distributors Ltd.', '10371'),\n",
       " ('Mini Gifts Distributors Ltd.', '10382'),\n",
       " ('Mini Gifts Distributors Ltd.', '10385'),\n",
       " ('Mini Gifts Distributors Ltd.', '10390'),\n",
       " ('Mini Gifts Distributors Ltd.', '10396'),\n",
       " ('Mini Gifts Distributors Ltd.', '10421'),\n",
       " ('Blauer See Auto, Co.', '10101'),\n",
       " ('Blauer See Auto, Co.', '10230'),\n",
       " ('Blauer See Auto, Co.', '10300'),\n",
       " ('Blauer See Auto, Co.', '10323'),\n",
       " ('Mini Wheels Co.', '10111'),\n",
       " ('Mini Wheels Co.', '10201'),\n",
       " ('Mini Wheels Co.', '10333'),\n",
       " ('Land of Toys Inc.', '10107'),\n",
       " ('Land of Toys Inc.', '10248'),\n",
       " ('Land of Toys Inc.', '10292'),\n",
       " ('Land of Toys Inc.', '10329'),\n",
       " ('Euro+ Shopping Channel', '10104'),\n",
       " ('Euro+ Shopping Channel', '10128'),\n",
       " ('Euro+ Shopping Channel', '10133'),\n",
       " ('Euro+ Shopping Channel', '10153'),\n",
       " ('Euro+ Shopping Channel', '10156'),\n",
       " ('Euro+ Shopping Channel', '10190'),\n",
       " ('Euro+ Shopping Channel', '10203'),\n",
       " ('Euro+ Shopping Channel', '10205'),\n",
       " ('Euro+ Shopping Channel', '10212'),\n",
       " ('Euro+ Shopping Channel', '10244'),\n",
       " ('Euro+ Shopping Channel', '10246'),\n",
       " ('Euro+ Shopping Channel', '10262'),\n",
       " ('Euro+ Shopping Channel', '10279'),\n",
       " ('Euro+ Shopping Channel', '10311'),\n",
       " ('Euro+ Shopping Channel', '10350'),\n",
       " ('Euro+ Shopping Channel', '10355'),\n",
       " ('Euro+ Shopping Channel', '10358'),\n",
       " ('Euro+ Shopping Channel', '10378'),\n",
       " ('Euro+ Shopping Channel', '10379'),\n",
       " ('Euro+ Shopping Channel', '10380'),\n",
       " ('Euro+ Shopping Channel', '10383'),\n",
       " ('Euro+ Shopping Channel', '10386'),\n",
       " ('Euro+ Shopping Channel', '10394'),\n",
       " ('Euro+ Shopping Channel', '10412'),\n",
       " ('Euro+ Shopping Channel', '10417'),\n",
       " ('Euro+ Shopping Channel', '10424'),\n",
       " ('Volvo Model Replicas, Co', '10112'),\n",
       " ('Volvo Model Replicas, Co', '10320'),\n",
       " ('Volvo Model Replicas, Co', '10326'),\n",
       " ('Volvo Model Replicas, Co', '10334'),\n",
       " ('Danish Wholesale Imports', '10105'),\n",
       " ('Danish Wholesale Imports', '10238'),\n",
       " ('Danish Wholesale Imports', '10256'),\n",
       " ('Danish Wholesale Imports', '10327'),\n",
       " ('Danish Wholesale Imports', '10406'),\n",
       " ('Saveley & Henriot, Co.', '10194'),\n",
       " ('Saveley & Henriot, Co.', '10208'),\n",
       " ('Saveley & Henriot, Co.', '10227'),\n",
       " ('Dragon Souveniers, Ltd.', '10117'),\n",
       " ('Dragon Souveniers, Ltd.', '10150'),\n",
       " ('Dragon Souveniers, Ltd.', '10165'),\n",
       " ('Dragon Souveniers, Ltd.', '10277'),\n",
       " ('Dragon Souveniers, Ltd.', '10387'),\n",
       " ('Muscle Machine Inc', '10127'),\n",
       " ('Muscle Machine Inc', '10204'),\n",
       " ('Muscle Machine Inc', '10267'),\n",
       " ('Muscle Machine Inc', '10349'),\n",
       " ('Diecast Classics Inc.', '10272'),\n",
       " ('Diecast Classics Inc.', '10281'),\n",
       " ('Diecast Classics Inc.', '10318'),\n",
       " ('Diecast Classics Inc.', '10422'),\n",
       " ('Technics Stores Inc.', '10140'),\n",
       " ('Technics Stores Inc.', '10168'),\n",
       " ('Technics Stores Inc.', '10317'),\n",
       " ('Technics Stores Inc.', '10362'),\n",
       " ('Handji Gifts& Co', '10217'),\n",
       " ('Handji Gifts& Co', '10259'),\n",
       " ('Handji Gifts& Co', '10288'),\n",
       " ('Handji Gifts& Co', '10409'),\n",
       " ('Herkku Gifts', '10181'),\n",
       " ('Herkku Gifts', '10188'),\n",
       " ('Herkku Gifts', '10289'),\n",
       " ('Daedalus Designs Imports', '10180'),\n",
       " ('Daedalus Designs Imports', '10224'),\n",
       " (\"La Corne D'abondance, Co.\", '10114'),\n",
       " (\"La Corne D'abondance, Co.\", '10286'),\n",
       " (\"La Corne D'abondance, Co.\", '10336'),\n",
       " ('Cambridge Collectables Co.', '10228'),\n",
       " ('Cambridge Collectables Co.', '10249'),\n",
       " ('Gift Depot Inc.', '10172'),\n",
       " ('Gift Depot Inc.', '10263'),\n",
       " ('Gift Depot Inc.', '10413'),\n",
       " ('Osaka Souveniers Co.', '10210'),\n",
       " ('Osaka Souveniers Co.', '10240'),\n",
       " ('Vitachrome Inc.', '10102'),\n",
       " ('Vitachrome Inc.', '10237'),\n",
       " ('Vitachrome Inc.', '10324'),\n",
       " ('Toys of Finland, Co.', '10155'),\n",
       " ('Toys of Finland, Co.', '10299'),\n",
       " ('Toys of Finland, Co.', '10377'),\n",
       " ('AV Stores, Co.', '10110'),\n",
       " ('AV Stores, Co.', '10306'),\n",
       " ('AV Stores, Co.', '10332'),\n",
       " ('Clover Collections, Co.', '10220'),\n",
       " ('Clover Collections, Co.', '10297'),\n",
       " ('Auto-Moto Classics Inc.', '10130'),\n",
       " ('Auto-Moto Classics Inc.', '10290'),\n",
       " ('Auto-Moto Classics Inc.', '10352'),\n",
       " ('UK Collectables, Ltd.', '10253'),\n",
       " ('UK Collectables, Ltd.', '10302'),\n",
       " ('UK Collectables, Ltd.', '10403'),\n",
       " ('Canadian Gift Exchange Network', '10206'),\n",
       " ('Canadian Gift Exchange Network', '10313'),\n",
       " ('Online Mini Collectables', '10276'),\n",
       " ('Online Mini Collectables', '10294'),\n",
       " ('Toys4GrownUps.com', '10145'),\n",
       " ('Toys4GrownUps.com', '10189'),\n",
       " ('Toys4GrownUps.com', '10367'),\n",
       " ('Mini Caravy', '10241'),\n",
       " ('Mini Caravy', '10255'),\n",
       " ('Mini Caravy', '10405'),\n",
       " ('King Kong Collectables, Co.', '10187'),\n",
       " ('King Kong Collectables, Co.', '10200'),\n",
       " ('Enaco Distributors', '10118'),\n",
       " ('Enaco Distributors', '10197'),\n",
       " ('Enaco Distributors', '10340'),\n",
       " ('Boards & Toys Co.', '10154'),\n",
       " ('Boards & Toys Co.', '10376'),\n",
       " ('Heintze Collectables', '10161'),\n",
       " ('Heintze Collectables', '10314'),\n",
       " ('Québec Home Shopping Network', '10171'),\n",
       " ('Québec Home Shopping Network', '10261'),\n",
       " ('Québec Home Shopping Network', '10411'),\n",
       " ('Collectable Mini Designs Co.', '10222'),\n",
       " ('Collectable Mini Designs Co.', '10226'),\n",
       " ('giftsbymail.co.uk', '10232'),\n",
       " ('giftsbymail.co.uk', '10316'),\n",
       " ('Alpha Cognac', '10136'),\n",
       " ('Alpha Cognac', '10178'),\n",
       " ('Alpha Cognac', '10397'),\n",
       " ('Amica Models & Co.', '10280'),\n",
       " ('Amica Models & Co.', '10293'),\n",
       " ('Lyon Souveniers', '10134'),\n",
       " ('Lyon Souveniers', '10356'),\n",
       " ('Lyon Souveniers', '10395'),\n",
       " ('Auto Associés & Cie.', '10216'),\n",
       " ('Auto Associés & Cie.', '10304'),\n",
       " ('Toms Spezialitäten, Ltd', '10191'),\n",
       " ('Toms Spezialitäten, Ltd', '10310'),\n",
       " ('Royal Canadian Collectables, Ltd.', '10235'),\n",
       " ('Royal Canadian Collectables, Ltd.', '10283'),\n",
       " (\"Anna's Decorations, Ltd\", '10148'),\n",
       " (\"Anna's Decorations, Ltd\", '10169'),\n",
       " (\"Anna's Decorations, Ltd\", '10370'),\n",
       " (\"Anna's Decorations, Ltd\", '10391'),\n",
       " ('Rovelli Gifts', '10106'),\n",
       " ('Rovelli Gifts', '10173'),\n",
       " ('Rovelli Gifts', '10328'),\n",
       " ('Souveniers And Things Co.', '10139'),\n",
       " ('Souveniers And Things Co.', '10270'),\n",
       " ('Souveniers And Things Co.', '10361'),\n",
       " ('Souveniers And Things Co.', '10420'),\n",
       " (\"Marta's Replicas Co.\", '10285'),\n",
       " (\"Marta's Replicas Co.\", '10305'),\n",
       " ('Vida Sport, Ltd', '10225'),\n",
       " ('Vida Sport, Ltd', '10287'),\n",
       " ('Norway Gifts By Mail, Co.', '10284'),\n",
       " ('Norway Gifts By Mail, Co.', '10301'),\n",
       " ('Oulu Toy Supplies, Inc.', '10151'),\n",
       " ('Oulu Toy Supplies, Inc.', '10239'),\n",
       " ('Oulu Toy Supplies, Inc.', '10373'),\n",
       " ('Petit Auto', '10221'),\n",
       " ('Petit Auto', '10273'),\n",
       " ('Petit Auto', '10423'),\n",
       " ('Mini Classics', '10195'),\n",
       " ('Mini Classics', '10308'),\n",
       " ('Mini Creations Ltd.', '10143'),\n",
       " ('Mini Creations Ltd.', '10185'),\n",
       " ('Mini Creations Ltd.', '10365'),\n",
       " ('Corporate Gift Ideas Co.', '10159'),\n",
       " ('Corporate Gift Ideas Co.', '10162'),\n",
       " ('Corporate Gift Ideas Co.', '10381'),\n",
       " ('Corporate Gift Ideas Co.', '10384'),\n",
       " ('Down Under Souveniers, Inc', '10132'),\n",
       " ('Down Under Souveniers, Inc', '10254'),\n",
       " ('Down Under Souveniers, Inc', '10354'),\n",
       " ('Down Under Souveniers, Inc', '10393'),\n",
       " ('Down Under Souveniers, Inc', '10404'),\n",
       " ('Stylish Desk Decors, Co.', '10129'),\n",
       " ('Stylish Desk Decors, Co.', '10175'),\n",
       " ('Stylish Desk Decors, Co.', '10351'),\n",
       " ('Tekni Collectables Inc.', '10233'),\n",
       " ('Tekni Collectables Inc.', '10251'),\n",
       " ('Tekni Collectables Inc.', '10401'),\n",
       " ('Australian Gift Network, Co', '10152'),\n",
       " ('Australian Gift Network, Co', '10174'),\n",
       " ('Australian Gift Network, Co', '10374'),\n",
       " ('Suominen Souveniers', '10141'),\n",
       " ('Suominen Souveniers', '10247'),\n",
       " ('Suominen Souveniers', '10363'),\n",
       " ('Classic Gift Ideas, Inc', '10183'),\n",
       " ('Classic Gift Ideas, Inc', '10307'),\n",
       " ('CAF Imports', '10177'),\n",
       " ('CAF Imports', '10231'),\n",
       " (\"Men 'R' US Retailers, Ltd.\", '10160'),\n",
       " (\"Men 'R' US Retailers, Ltd.\", '10209'),\n",
       " ('Marseille Mini Autos', '10122'),\n",
       " ('Marseille Mini Autos', '10344'),\n",
       " ('Marseille Mini Autos', '10364'),\n",
       " ('Reims Collectables', '10121'),\n",
       " ('Reims Collectables', '10137'),\n",
       " ('Reims Collectables', '10343'),\n",
       " ('Reims Collectables', '10359'),\n",
       " ('Reims Collectables', '10398'),\n",
       " ('GiftsForHim.com', '10202'),\n",
       " ('GiftsForHim.com', '10260'),\n",
       " ('GiftsForHim.com', '10410'),\n",
       " ('Gifts4AllAges.com', '10264'),\n",
       " ('Gifts4AllAges.com', '10295'),\n",
       " ('Gifts4AllAges.com', '10414'),\n",
       " ('Online Diecast Creations Co.', '10100'),\n",
       " ('Online Diecast Creations Co.', '10192'),\n",
       " ('Online Diecast Creations Co.', '10322'),\n",
       " ('Collectables For Less Inc.', '10147'),\n",
       " ('Collectables For Less Inc.', '10274'),\n",
       " ('Collectables For Less Inc.', '10369'),\n",
       " ('Royale Belge', '10116'),\n",
       " ('Royale Belge', '10144'),\n",
       " ('Royale Belge', '10338'),\n",
       " ('Royale Belge', '10366'),\n",
       " ('Salzburg Collectables', '10119'),\n",
       " ('Salzburg Collectables', '10269'),\n",
       " ('Salzburg Collectables', '10341'),\n",
       " ('Salzburg Collectables', '10419'),\n",
       " ('Cruz & Sons Co.', '10108'),\n",
       " ('Cruz & Sons Co.', '10198'),\n",
       " ('Cruz & Sons Co.', '10330'),\n",
       " (\"L'ordine Souveniers\", '10176'),\n",
       " (\"L'ordine Souveniers\", '10266'),\n",
       " (\"L'ordine Souveniers\", '10416'),\n",
       " ('Tokyo Collectables, Ltd', '10258'),\n",
       " ('Tokyo Collectables, Ltd', '10339'),\n",
       " ('Tokyo Collectables, Ltd', '10372'),\n",
       " ('Tokyo Collectables, Ltd', '10408'),\n",
       " ('Auto Canal+ Petit', '10211'),\n",
       " ('Auto Canal+ Petit', '10252'),\n",
       " ('Auto Canal+ Petit', '10402'),\n",
       " ('Extreme Desk Decorations, Ltd', '10234'),\n",
       " ('Extreme Desk Decorations, Ltd', '10268'),\n",
       " ('Extreme Desk Decorations, Ltd', '10418'),\n",
       " ('Bavarian Collectables Imports, Co.', '10296'),\n",
       " ('Classic Legends Inc.', '10115'),\n",
       " ('Classic Legends Inc.', '10163'),\n",
       " ('Classic Legends Inc.', '10337'),\n",
       " ('Gift Ideas Corp.', '10131'),\n",
       " ('Gift Ideas Corp.', '10146'),\n",
       " ('Gift Ideas Corp.', '10353'),\n",
       " ('Scandinavian Gift Ideas', '10167'),\n",
       " ('Scandinavian Gift Ideas', '10291'),\n",
       " ('Scandinavian Gift Ideas', '10389'),\n",
       " ('The Sharp Gifts Warehouse', '10250'),\n",
       " ('The Sharp Gifts Warehouse', '10257'),\n",
       " ('The Sharp Gifts Warehouse', '10400'),\n",
       " ('The Sharp Gifts Warehouse', '10407'),\n",
       " ('Mini Auto Werke', '10164'),\n",
       " ('Mini Auto Werke', '10170'),\n",
       " ('Mini Auto Werke', '10392'),\n",
       " ('Super Scale Inc.', '10196'),\n",
       " ('Super Scale Inc.', '10245'),\n",
       " ('Microscale Inc.', '10242'),\n",
       " ('Microscale Inc.', '10319'),\n",
       " ('Corrida Auto Replicas, Ltd', '10126'),\n",
       " ('Corrida Auto Replicas, Ltd', '10214'),\n",
       " ('Corrida Auto Replicas, Ltd', '10348'),\n",
       " ('FunGiftIdeas.com', '10166'),\n",
       " ('FunGiftIdeas.com', '10321'),\n",
       " ('FunGiftIdeas.com', '10388'),\n",
       " ('Australian Collectables, Ltd', '10193'),\n",
       " ('Australian Collectables, Ltd', '10265'),\n",
       " ('Australian Collectables, Ltd', '10415'),\n",
       " ('Frau da Collezione', '10157'),\n",
       " ('Frau da Collezione', '10218'),\n",
       " ('West Coast Collectables Co.', '10199'),\n",
       " ('West Coast Collectables Co.', '10215'),\n",
       " ('Iberia Gift Imports, Corp.', '10184'),\n",
       " ('Iberia Gift Imports, Corp.', '10303'),\n",
       " ('Motor Mint Distributors Inc.', '10109'),\n",
       " ('Motor Mint Distributors Inc.', '10236'),\n",
       " ('Motor Mint Distributors Inc.', '10331'),\n",
       " ('Signal Collectibles Ltd.', '10149'),\n",
       " ('Signal Collectibles Ltd.', '10219'),\n",
       " ('Double Decker Gift Stores, Ltd', '10186'),\n",
       " ('Double Decker Gift Stores, Ltd', '10213'),\n",
       " ('Diecast Collectables', '10207'),\n",
       " ('Diecast Collectables', '10243'),\n",
       " (\"Kelly's Gift Shop\", '10138'),\n",
       " (\"Kelly's Gift Shop\", '10179'),\n",
       " (\"Kelly's Gift Shop\", '10360'),\n",
       " (\"Kelly's Gift Shop\", '10399')]"
      ]
     },
     "execution_count": 13,
     "metadata": {},
     "output_type": "execute_result"
    }
   ],
   "source": [
    "# Find all orders for one customer\n",
    "cur.execute(\"\"\"\n",
    "SELECT\n",
    "  customers.customerName\n",
    " ,orders.orderNumber\n",
    "FROM \n",
    "  customers JOIN orders\n",
    "  ON customers.customerNumber = orders.customerNumber\n",
    "\"\"\").fetchall()"
   ]
  },
  {
   "cell_type": "markdown",
   "metadata": {},
   "source": [
    "## Level Up: Display the names of each product each employee has sold."
   ]
  },
  {
   "cell_type": "code",
   "execution_count": null,
   "metadata": {},
   "outputs": [],
   "source": [
    "# Your code here"
   ]
  },
  {
   "cell_type": "markdown",
   "metadata": {},
   "source": [
    "## Level Up: Display the Number of Products each Employee Has sold"
   ]
  },
  {
   "cell_type": "code",
   "execution_count": null,
   "metadata": {},
   "outputs": [],
   "source": [
    "#Your code here"
   ]
  },
  {
   "cell_type": "markdown",
   "metadata": {},
   "source": [
    "## Summary"
   ]
  },
  {
   "cell_type": "markdown",
   "metadata": {},
   "source": [
    "Congrats! You now know how to use Join statements, along with leveraging your foreign keys knowledge!"
   ]
  }
 ],
 "metadata": {
  "kernelspec": {
   "display_name": "Python 3",
   "language": "python",
   "name": "python3"
  },
  "language_info": {
   "codemirror_mode": {
    "name": "ipython",
    "version": 3
   },
   "file_extension": ".py",
   "mimetype": "text/x-python",
   "name": "python",
   "nbconvert_exporter": "python",
   "pygments_lexer": "ipython3",
   "version": "3.6.6"
  }
 },
 "nbformat": 4,
 "nbformat_minor": 2
}
